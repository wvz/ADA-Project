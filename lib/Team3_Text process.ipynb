{
 "cells": [
  {
   "cell_type": "code",
   "execution_count": 21,
   "metadata": {
    "collapsed": true
   },
   "outputs": [],
   "source": [
    "# Parse HTML\n",
    "from html.parser import HTMLParser\n",
    "import re\n",
    "import nltk\n",
    "from nltk.corpus import stopwords\n",
    "from collections import Counter\n",
    "from nltk import word_tokenize, WordNetLemmatizer\n",
    "\n",
    "stoplist = stopwords.words('english')\n",
    "wnl = WordNetLemmatizer()\n",
    "\n",
    "class Parser(HTMLParser):\n",
    "    def __init__(self):\n",
    "        self.reset()\n",
    "        self.strict = False\n",
    "        self.convert_charrefs = True\n",
    "        self.fed = []\n",
    "    def handle_data(self, d):\n",
    "        self.fed.append(d)\n",
    "    def get_data(self):\n",
    "        return ''.join(self.fed)\n",
    "\n",
    "def clean(html):\n",
    "    s = Parser()\n",
    "    s.feed(html)\n",
    "    html_text = re.sub(\"[^a-zA-Z]\", \" \", s.get_data()).lower().split()\n",
    "    words = [word for word in html_text if len(word) > 1 and not word in stoplist]\n",
    "    return(words)"
   ]
  },
  {
   "cell_type": "code",
   "execution_count": 22,
   "metadata": {
    "collapsed": false,
    "scrolled": true
   },
   "outputs": [
    {
     "name": "stdout",
     "output_type": "stream",
     "text": [
      "1.4203318993250529 minutes\n"
     ]
    }
   ],
   "source": [
    "import pandas as pd\n",
    "import time\n",
    "start_time = time.time()\n",
    "\n",
    "data = pd.read_csv(\"./data/rquestions/Answers.csv\", encoding= 'iso-8859-1')\n",
    "cleaned_data = data\n",
    "# cleaned_data['Title'] = cleaned_data['Title'].map(lambda x: clean(x))\n",
    "cleaned_data['Body'] = cleaned_data['Body'].map(lambda x: clean(x))\n",
    "print(str((time.time() - start_time) / 60) + ' minutes')"
   ]
  },
  {
   "cell_type": "code",
   "execution_count": 4,
   "metadata": {
    "collapsed": false
   },
   "outputs": [],
   "source": [
    "import os\n",
    "\n",
    "path = '/Users/jingweili/Documents/Github/project/data/rquestions'\n",
    "cleaned_data.to_csv(os.path.join(path, r'r_answers_clean.csv'), encoding = 'utf-8', index = False)"
   ]
  },
  {
   "cell_type": "code",
   "execution_count": 23,
   "metadata": {
    "collapsed": false,
    "scrolled": false
   },
   "outputs": [
    {
     "data": {
      "text/html": [
       "<div>\n",
       "<table border=\"1\" class=\"dataframe\">\n",
       "  <thead>\n",
       "    <tr style=\"text-align: right;\">\n",
       "      <th></th>\n",
       "      <th>Id</th>\n",
       "      <th>OwnerUserId</th>\n",
       "      <th>CreationDate</th>\n",
       "      <th>ParentId</th>\n",
       "      <th>Score</th>\n",
       "      <th>IsAcceptedAnswer</th>\n",
       "      <th>Body</th>\n",
       "    </tr>\n",
       "  </thead>\n",
       "  <tbody>\n",
       "    <tr>\n",
       "      <th>0</th>\n",
       "      <td>79741</td>\n",
       "      <td>3259.0</td>\n",
       "      <td>2008-09-17T03:43:22Z</td>\n",
       "      <td>79709</td>\n",
       "      <td>-1</td>\n",
       "      <td>False</td>\n",
       "      <td>[tough, say, definitively, without, knowing, l...</td>\n",
       "    </tr>\n",
       "    <tr>\n",
       "      <th>1</th>\n",
       "      <td>79768</td>\n",
       "      <td>6043.0</td>\n",
       "      <td>2008-09-17T03:48:29Z</td>\n",
       "      <td>79709</td>\n",
       "      <td>5</td>\n",
       "      <td>False</td>\n",
       "      <td>[use, variables, outer, function, instead, glo...</td>\n",
       "    </tr>\n",
       "    <tr>\n",
       "      <th>2</th>\n",
       "      <td>79779</td>\n",
       "      <td>8002.0</td>\n",
       "      <td>2008-09-17T03:49:36Z</td>\n",
       "      <td>79709</td>\n",
       "      <td>0</td>\n",
       "      <td>False</td>\n",
       "      <td>[third, approach, inner, function, returns, re...</td>\n",
       "    </tr>\n",
       "    <tr>\n",
       "      <th>3</th>\n",
       "      <td>79788</td>\n",
       "      <td>NaN</td>\n",
       "      <td>2008-09-17T03:51:30Z</td>\n",
       "      <td>79709</td>\n",
       "      <td>3</td>\n",
       "      <td>False</td>\n",
       "      <td>[going, make, much, difference, memory, use, m...</td>\n",
       "    </tr>\n",
       "    <tr>\n",
       "      <th>4</th>\n",
       "      <td>79827</td>\n",
       "      <td>14257.0</td>\n",
       "      <td>2008-09-17T03:58:26Z</td>\n",
       "      <td>79709</td>\n",
       "      <td>1</td>\n",
       "      <td>False</td>\n",
       "      <td>[sure, understand, question, couple, solutions...</td>\n",
       "    </tr>\n",
       "  </tbody>\n",
       "</table>\n",
       "</div>"
      ],
      "text/plain": [
       "      Id  OwnerUserId          CreationDate  ParentId  Score IsAcceptedAnswer  \\\n",
       "0  79741       3259.0  2008-09-17T03:43:22Z     79709     -1            False   \n",
       "1  79768       6043.0  2008-09-17T03:48:29Z     79709      5            False   \n",
       "2  79779       8002.0  2008-09-17T03:49:36Z     79709      0            False   \n",
       "3  79788          NaN  2008-09-17T03:51:30Z     79709      3            False   \n",
       "4  79827      14257.0  2008-09-17T03:58:26Z     79709      1            False   \n",
       "\n",
       "                                                Body  \n",
       "0  [tough, say, definitively, without, knowing, l...  \n",
       "1  [use, variables, outer, function, instead, glo...  \n",
       "2  [third, approach, inner, function, returns, re...  \n",
       "3  [going, make, much, difference, memory, use, m...  \n",
       "4  [sure, understand, question, couple, solutions...  "
      ]
     },
     "execution_count": 23,
     "metadata": {},
     "output_type": "execute_result"
    }
   ],
   "source": [
    "cleaned_data.head()"
   ]
  },
  {
   "cell_type": "code",
   "execution_count": null,
   "metadata": {
    "collapsed": true
   },
   "outputs": [],
   "source": []
  }
 ],
 "metadata": {
  "kernelspec": {
   "display_name": "Python 3",
   "language": "python",
   "name": "python3"
  },
  "language_info": {
   "codemirror_mode": {
    "name": "ipython",
    "version": 3
   },
   "file_extension": ".py",
   "mimetype": "text/x-python",
   "name": "python",
   "nbconvert_exporter": "python",
   "pygments_lexer": "ipython3",
   "version": "3.5.1"
  }
 },
 "nbformat": 4,
 "nbformat_minor": 1
}
