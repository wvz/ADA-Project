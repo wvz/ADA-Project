{
 "cells": [
  {
   "cell_type": "code",
   "execution_count": 2,
   "metadata": {
    "collapsed": true
   },
   "outputs": [],
   "source": [
    "# Parse HTML\n",
    "from html.parser import HTMLParser\n",
    "import re\n",
    "import nltk\n",
    "from nltk.corpus import stopwords\n",
    "from collections import Counter\n",
    "\n",
    "stoplist = stopwords.words('english')\n",
    "\n",
    "class Parser(HTMLParser):\n",
    "    def __init__(self):\n",
    "        self.reset()\n",
    "        self.strict = False\n",
    "        self.convert_charrefs = True\n",
    "        self.fed = []\n",
    "    def handle_data(self, d):\n",
    "        self.fed.append(d)\n",
    "    def get_data(self):\n",
    "        return ''.join(self.fed)\n",
    "\n",
    "def clean(html):\n",
    "    s = Parser()\n",
    "    s.feed(html)\n",
    "    html_text = re.sub(\"[^a-zA-Z]\", \" \", s.get_data()).lower().split()\n",
    "    words = [word for word in html_text if len(word) > 1 and not word in stoplist]\n",
    "    return(words)"
   ]
  },
  {
   "cell_type": "code",
   "execution_count": 3,
   "metadata": {
    "collapsed": false
   },
   "outputs": [],
   "source": [
    "# Filter tags by counts (count > 5)\n",
    "\n",
    "import pandas as pd\n",
    "\n",
    "tags_raw = pd.read_csv(\"./data/rquestions/Tags.csv\", encoding = 'iso-8859-1')\n",
    "tags = tags_raw.groupby('Tag').filter(lambda count: len(count) > 5)\n",
    "doc_tag = tags_raw.groupby('Id')['Tag'].apply(list)\n",
    "doc_tag = pd.DataFrame({'Id': doc_tag.index, 'Tags': doc_tag.values})"
   ]
  },
  {
   "cell_type": "code",
   "execution_count": 4,
   "metadata": {
    "collapsed": false
   },
   "outputs": [
    {
     "name": "stdout",
     "output_type": "stream",
     "text": [
      "1.5294268170992533 minutes\n"
     ]
    },
    {
     "name": "stderr",
     "output_type": "stream",
     "text": [
      "//anaconda/lib/python3.5/site-packages/ipykernel/__main__.py:6: SettingWithCopyWarning: \n",
      "A value is trying to be set on a copy of a slice from a DataFrame.\n",
      "Try using .loc[row_indexer,col_indexer] = value instead\n",
      "\n",
      "See the caveats in the documentation: http://pandas.pydata.org/pandas-docs/stable/indexing.html#indexing-view-versus-copy\n"
     ]
    },
    {
     "data": {
      "text/html": [
       "<div>\n",
       "<table border=\"1\" class=\"dataframe\">\n",
       "  <thead>\n",
       "    <tr style=\"text-align: right;\">\n",
       "      <th></th>\n",
       "      <th>Id</th>\n",
       "      <th>Body</th>\n",
       "      <th>Tags</th>\n",
       "    </tr>\n",
       "  </thead>\n",
       "  <tbody>\n",
       "    <tr>\n",
       "      <th>0</th>\n",
       "      <td>77434</td>\n",
       "      <td>[suppose, vector, nested, dataframe, one, two,...</td>\n",
       "      <td>[vector]</td>\n",
       "    </tr>\n",
       "    <tr>\n",
       "      <th>1</th>\n",
       "      <td>79709</td>\n",
       "      <td>[function, inside, loop, inside, function, inn...</td>\n",
       "      <td>[memory, function, global-variables, side-effe...</td>\n",
       "    </tr>\n",
       "    <tr>\n",
       "      <th>2</th>\n",
       "      <td>95007</td>\n",
       "      <td>[mystified, quantile, function, day, intuitive...</td>\n",
       "      <td>[math, statistics]</td>\n",
       "    </tr>\n",
       "    <tr>\n",
       "      <th>3</th>\n",
       "      <td>103312</td>\n",
       "      <td>[test, eof, flag, example, file, fname, rb, re...</td>\n",
       "      <td>[file, file-io, eof]</td>\n",
       "    </tr>\n",
       "    <tr>\n",
       "      <th>4</th>\n",
       "      <td>255697</td>\n",
       "      <td>[looking, package, used, train, dirichlet, pri...</td>\n",
       "      <td>[math, statistics, bayesian, dirichlet]</td>\n",
       "    </tr>\n",
       "  </tbody>\n",
       "</table>\n",
       "</div>"
      ],
      "text/plain": [
       "       Id                                               Body  \\\n",
       "0   77434  [suppose, vector, nested, dataframe, one, two,...   \n",
       "1   79709  [function, inside, loop, inside, function, inn...   \n",
       "2   95007  [mystified, quantile, function, day, intuitive...   \n",
       "3  103312  [test, eof, flag, example, file, fname, rb, re...   \n",
       "4  255697  [looking, package, used, train, dirichlet, pri...   \n",
       "\n",
       "                                                Tags  \n",
       "0                                           [vector]  \n",
       "1  [memory, function, global-variables, side-effe...  \n",
       "2                                 [math, statistics]  \n",
       "3                               [file, file-io, eof]  \n",
       "4            [math, statistics, bayesian, dirichlet]  "
      ]
     },
     "execution_count": 4,
     "metadata": {},
     "output_type": "execute_result"
    }
   ],
   "source": [
    "import time\n",
    "\n",
    "start_time = time.time()\n",
    "questions = pd.read_csv(\"./data/rquestions/Questions.csv\", encoding = 'iso-8859-1')\n",
    "doc = questions[['Id', 'Body']]\n",
    "doc['Body'] = doc['Body'].map(lambda x: clean(x))\n",
    "doc = doc.join(doc_tag.set_index('Id'), on = 'Id', how = 'inner')\n",
    "print(str((time.time() - start_time) / 60) + ' minutes')\n",
    "doc.head()"
   ]
  },
  {
   "cell_type": "code",
   "execution_count": 6,
   "metadata": {
    "collapsed": false
   },
   "outputs": [],
   "source": [
    "from sklearn.cross_validation import train_test_split\n",
    "\n",
    "train, test = train_test_split(doc, test_size = 0.2)"
   ]
  },
  {
   "cell_type": "code",
   "execution_count": 7,
   "metadata": {
    "collapsed": false
   },
   "outputs": [
    {
     "name": "stderr",
     "output_type": "stream",
     "text": [
      "//anaconda/lib/python3.5/site-packages/gensim/utils.py:1015: UserWarning: Pattern library is not installed, lemmatization won't be available.\n",
      "  warnings.warn(\"Pattern library is not installed, lemmatization won't be available.\")\n"
     ]
    },
    {
     "name": "stdout",
     "output_type": "stream",
     "text": [
      "52.023739230632785 minutes\n"
     ]
    }
   ],
   "source": [
    "# Fit LDA model\n",
    "\n",
    "import gensim\n",
    "from gensim import corpora, models\n",
    "\n",
    "dictionary = corpora.Dictionary(doc['Body'])\n",
    "word_id = dictionary.token2id\n",
    "corpus_train = [dictionary.doc2bow(text) for text in train['Body']]\n",
    "corpus_test = [dictionary.doc2bow(text) for text in test['Body']]\n",
    "\n",
    "start_time = time.time()\n",
    "ldamodel = gensim.models.ldamodel.LdaModel(corpus_train, num_topics = 50, id2word = dictionary, \n",
    "                                           chunksize = 10000, passes = 20, update_every = 1)\n",
    "print(str((time.time() - start_time) / 60) + ' minutes')"
   ]
  },
  {
   "cell_type": "code",
   "execution_count": 8,
   "metadata": {
    "collapsed": false
   },
   "outputs": [
    {
     "name": "stdout",
     "output_type": "stream",
     "text": [
      "[(10, '0.114*\"file\" + 0.069*\"csv\" + 0.058*\"read\" + 0.038*\"files\"'), (17, '0.319*\"id\" + 0.172*\"name\" + 0.077*\"value\" + 0.019*\"ids\"'), (48, '0.020*\"cd\" + 0.017*\"ms\" + 0.014*\"ap\" + 0.013*\"cs\"')]\n"
     ]
    }
   ],
   "source": [
    "print(ldamodel.print_topics(num_topics = 3, num_words = 4))"
   ]
  },
  {
   "cell_type": "code",
   "execution_count": 9,
   "metadata": {
    "collapsed": false
   },
   "outputs": [],
   "source": [
    "import pickle\n",
    "\n",
    "# Save LDA model to disk\n",
    "# pickle.dump(ldamodel, open('./data/rquestions/lda_model.sav', 'wb'))\n",
    "\n",
    "# Load LDA from disk\n",
    "# loaded_model = pickle.load(open('./data/rquestions/lda_model.sav', 'rb'))"
   ]
  },
  {
   "cell_type": "code",
   "execution_count": 12,
   "metadata": {
    "collapsed": false,
    "scrolled": true
   },
   "outputs": [
    {
     "name": "stderr",
     "output_type": "stream",
     "text": [
      "//anaconda/lib/python3.5/site-packages/ipykernel/__main__.py:10: SettingWithCopyWarning: \n",
      "A value is trying to be set on a copy of a slice from a DataFrame.\n",
      "Try using .loc[row_indexer,col_indexer] = value instead\n",
      "\n",
      "See the caveats in the documentation: http://pandas.pydata.org/pandas-docs/stable/indexing.html#indexing-view-versus-copy\n"
     ]
    },
    {
     "name": "stdout",
     "output_type": "stream",
     "text": [
      "95.03186736504237 minutes\n"
     ]
    },
    {
     "name": "stderr",
     "output_type": "stream",
     "text": [
      "//anaconda/lib/python3.5/site-packages/ipykernel/__main__.py:11: SettingWithCopyWarning: \n",
      "A value is trying to be set on a copy of a slice from a DataFrame.\n",
      "Try using .loc[row_indexer,col_indexer] = value instead\n",
      "\n",
      "See the caveats in the documentation: http://pandas.pydata.org/pandas-docs/stable/indexing.html#indexing-view-versus-copy\n"
     ]
    }
   ],
   "source": [
    "# Find topics of documents\n",
    "\n",
    "from operator import itemgetter\n",
    "\n",
    "start_time = time.time()\n",
    "def get_topic(ldamodel, document):\n",
    "    topic_prob = ldamodel[document]\n",
    "    topic = max(topic_prob, key = itemgetter(1))[0]\n",
    "    return(topic)\n",
    "\n",
    "train['Topic'] = [get_topic(ldamodel, doc) for doc in corpus_train]\n",
    "test['Topic'] = [get_topic(ldamodel, doc) for doc in corpus_test]\n",
    "print(str((time.time() - start_time) / 60) + ' minutes')"
   ]
  },
  {
   "cell_type": "code",
   "execution_count": 13,
   "metadata": {
    "collapsed": false,
    "scrolled": true
   },
   "outputs": [
    {
     "data": {
      "text/html": [
       "<div>\n",
       "<table border=\"1\" class=\"dataframe\">\n",
       "  <thead>\n",
       "    <tr style=\"text-align: right;\">\n",
       "      <th></th>\n",
       "      <th>Id</th>\n",
       "      <th>Body</th>\n",
       "      <th>Tags</th>\n",
       "      <th>Topic</th>\n",
       "    </tr>\n",
       "  </thead>\n",
       "  <tbody>\n",
       "    <tr>\n",
       "      <th>71073</th>\n",
       "      <td>27854248</td>\n",
       "      <td>[trying, figure, write, csv, based, selections...</td>\n",
       "      <td>[csv, shiny]</td>\n",
       "      <td>37</td>\n",
       "    </tr>\n",
       "    <tr>\n",
       "      <th>144036</th>\n",
       "      <td>39715958</td>\n",
       "      <td>[list, data, frames, column, names, want, subs...</td>\n",
       "      <td>[list, lapply, gsub]</td>\n",
       "      <td>20</td>\n",
       "    </tr>\n",
       "    <tr>\n",
       "      <th>57641</th>\n",
       "      <td>24912042</td>\n",
       "      <td>[seems, lot, functionality, around, eval, leas...</td>\n",
       "      <td>[string, eval]</td>\n",
       "      <td>11</td>\n",
       "    </tr>\n",
       "    <tr>\n",
       "      <th>103704</th>\n",
       "      <td>33539856</td>\n",
       "      <td>[experiment, get, large, files, time, series, ...</td>\n",
       "      <td>[pdf, ggplot2]</td>\n",
       "      <td>2</td>\n",
       "    </tr>\n",
       "    <tr>\n",
       "      <th>61076</th>\n",
       "      <td>25668646</td>\n",
       "      <td>[trying, install, predictionet, troubles, clea...</td>\n",
       "      <td>[windows, installation]</td>\n",
       "      <td>23</td>\n",
       "    </tr>\n",
       "  </tbody>\n",
       "</table>\n",
       "</div>"
      ],
      "text/plain": [
       "              Id                                               Body  \\\n",
       "71073   27854248  [trying, figure, write, csv, based, selections...   \n",
       "144036  39715958  [list, data, frames, column, names, want, subs...   \n",
       "57641   24912042  [seems, lot, functionality, around, eval, leas...   \n",
       "103704  33539856  [experiment, get, large, files, time, series, ...   \n",
       "61076   25668646  [trying, install, predictionet, troubles, clea...   \n",
       "\n",
       "                           Tags  Topic  \n",
       "71073              [csv, shiny]     37  \n",
       "144036     [list, lapply, gsub]     20  \n",
       "57641            [string, eval]     11  \n",
       "103704           [pdf, ggplot2]      2  \n",
       "61076   [windows, installation]     23  "
      ]
     },
     "execution_count": 13,
     "metadata": {},
     "output_type": "execute_result"
    }
   ],
   "source": [
    "train.head()"
   ]
  },
  {
   "cell_type": "code",
   "execution_count": 14,
   "metadata": {
    "collapsed": true
   },
   "outputs": [],
   "source": [
    "# Save and load dataset\n",
    "\n",
    "# train.to_pickle('./data/rquestions/train.pkl')\n",
    "# test.to_pickle('./data/rquestions/test.pkl')\n",
    "\n",
    "# train = pd.read_pickle('./data/rquestions/train.pkl')\n",
    "# test = pd.read_pickle('./data/rquestions/test.pkl')"
   ]
  },
  {
   "cell_type": "code",
   "execution_count": 21,
   "metadata": {
    "collapsed": true
   },
   "outputs": [],
   "source": [
    "# Recommend tags by KNN\n",
    "\n",
    "def distance(a, b):\n",
    "    intersect = list(set(a) & set(b))\n",
    "    union = list(set(a) | set(b))\n",
    "    return(len(intersect) / len(union))\n",
    "\n",
    "def recommend_tag(test_row, num_tags, num_neighbor):\n",
    "    test_id = test_row['Id']\n",
    "    test_body = test_row['Body']\n",
    "    test_topic = test_row['Topic']\n",
    "    test_tag = test_row['Tags']\n",
    "    train_topic = train[train['Topic'] == test_topic]\n",
    "    \n",
    "    # Calculate distance between test and documents in training set\n",
    "    dist = train_topic['Body'].map(lambda x: distance(test_body, x))\n",
    "    \n",
    "    # Find the closet documents\n",
    "    closet_index = dist.nlargest(num_neighbor).index.values.tolist()\n",
    "    closet_id = train_topic.loc[closet_index]['Id'].tolist()\n",
    "    \n",
    "    # Recommend the most common tags\n",
    "    tag_list = tags[tags['Id'].isin(closet_id)]['Tag'].tolist()\n",
    "    sorted_tags = [tag for tag, count in Counter(tag_list).most_common()]\n",
    "    top_tags = sorted_tags[:num_tags]\n",
    "    return(pd.Series([test_id, test_body, test_tag, top_tags]))"
   ]
  },
  {
   "cell_type": "code",
   "execution_count": 23,
   "metadata": {
    "collapsed": false
   },
   "outputs": [
    {
     "name": "stdout",
     "output_type": "stream",
     "text": [
      "118.53424481550853 minutes\n"
     ]
    },
    {
     "data": {
      "text/html": [
       "<div>\n",
       "<table border=\"1\" class=\"dataframe\">\n",
       "  <thead>\n",
       "    <tr style=\"text-align: right;\">\n",
       "      <th></th>\n",
       "      <th>Id</th>\n",
       "      <th>Body</th>\n",
       "      <th>Actual Tags</th>\n",
       "      <th>Recommend Tags</th>\n",
       "    </tr>\n",
       "  </thead>\n",
       "  <tbody>\n",
       "    <tr>\n",
       "      <th>121408</th>\n",
       "      <td>36361425</td>\n",
       "      <td>[struggling, developing, bubble, chart, plotly...</td>\n",
       "      <td>[plotly]</td>\n",
       "      <td>[plotly, googlevis, shiny, rmarkdown]</td>\n",
       "    </tr>\n",
       "    <tr>\n",
       "      <th>56385</th>\n",
       "      <td>24626769</td>\n",
       "      <td>[plotting, stacked, bar, graph, use, geom, tex...</td>\n",
       "      <td>[ggplot2, geom-text]</td>\n",
       "      <td>[ggplot2, geom-bar, geom-text, dataframe]</td>\n",
       "    </tr>\n",
       "    <tr>\n",
       "      <th>111850</th>\n",
       "      <td>34855721</td>\n",
       "      <td>[two, data, frame, df, df, ncol, nrow, col, co...</td>\n",
       "      <td>[dataframe]</td>\n",
       "      <td>[dataframe, list, plyr, datatable]</td>\n",
       "    </tr>\n",
       "    <tr>\n",
       "      <th>125165</th>\n",
       "      <td>36889656</td>\n",
       "      <td>[two, data, frames, dput, data, frames, given,...</td>\n",
       "      <td>[search, data-manipulation]</td>\n",
       "      <td>[time, dataframe, matching, data.table]</td>\n",
       "    </tr>\n",
       "    <tr>\n",
       "      <th>120460</th>\n",
       "      <td>36206168</td>\n",
       "      <td>[time, series, climate, data, years, base, plo...</td>\n",
       "      <td>[ggplot2, time-series, zoo]</td>\n",
       "      <td>[plot, ggplot2, time-series, zoo]</td>\n",
       "    </tr>\n",
       "    <tr>\n",
       "      <th>108412</th>\n",
       "      <td>34259208</td>\n",
       "      <td>[trying, modify, values, column, rows, specifi...</td>\n",
       "      <td>[dplyr]</td>\n",
       "      <td>[dplyr, dataframe, tidyr, split]</td>\n",
       "    </tr>\n",
       "    <tr>\n",
       "      <th>47063</th>\n",
       "      <td>22428997</td>\n",
       "      <td>[struggling, hours, get, match, replace, gsub,...</td>\n",
       "      <td>[regex, gsub]</td>\n",
       "      <td>[regex, string, gsub, stringr]</td>\n",
       "    </tr>\n",
       "    <tr>\n",
       "      <th>133893</th>\n",
       "      <td>38207390</td>\n",
       "      <td>[want, make, curved, text, around, ggplot, coo...</td>\n",
       "      <td>[dataframe, ggplot2]</td>\n",
       "      <td>[ggplot2, plot, bar-chart, graph]</td>\n",
       "    </tr>\n",
       "    <tr>\n",
       "      <th>78189</th>\n",
       "      <td>29163079</td>\n",
       "      <td>[trouble, functions, tried, vectorize, functio...</td>\n",
       "      <td>[integrate]</td>\n",
       "      <td>[integration, function, package, bitbucket]</td>\n",
       "    </tr>\n",
       "    <tr>\n",
       "      <th>25376</th>\n",
       "      <td>15945396</td>\n",
       "      <td>[simple, dataframe, two, vectors, speed, id, l...</td>\n",
       "      <td>[subset]</td>\n",
       "      <td>[dataframe, apply, dplyr, plyr]</td>\n",
       "    </tr>\n",
       "    <tr>\n",
       "      <th>78535</th>\n",
       "      <td>29222603</td>\n",
       "      <td>[using, shiny, application, may, take, time, s...</td>\n",
       "      <td>[slider, shiny]</td>\n",
       "      <td>[statistics, dplyr, shiny, data.table]</td>\n",
       "    </tr>\n",
       "    <tr>\n",
       "      <th>86126</th>\n",
       "      <td>30607496</td>\n",
       "      <td>[making, package, using, devtools, roxygen, ge...</td>\n",
       "      <td>[pdf, devtools, manual, roxygen2]</td>\n",
       "      <td>[devtools, rstudio, roxygen2, cran]</td>\n",
       "    </tr>\n",
       "    <tr>\n",
       "      <th>53199</th>\n",
       "      <td>23872120</td>\n",
       "      <td>[trying, scrape, following, webpage, using, xm...</td>\n",
       "      <td>[xml, web-scraping, rcurl, httr]</td>\n",
       "      <td>[web-scraping, xml, html, screen-scraping]</td>\n",
       "    </tr>\n",
       "    <tr>\n",
       "      <th>146258</th>\n",
       "      <td>40034750</td>\n",
       "      <td>[simplest, way, verify, factor, variable, leve...</td>\n",
       "      <td>[factors, levels]</td>\n",
       "      <td>[gwidgets, handler, user-interface, list]</td>\n",
       "    </tr>\n",
       "    <tr>\n",
       "      <th>343</th>\n",
       "      <td>1671521</td>\n",
       "      <td>[network, loaded, igraph, object, vertices, ed...</td>\n",
       "      <td>[social-networking, igraph]</td>\n",
       "      <td>[vector, for-loop, data-manipulation, signal-p...</td>\n",
       "    </tr>\n",
       "    <tr>\n",
       "      <th>89589</th>\n",
       "      <td>31235227</td>\n",
       "      <td>[long, vector, need, divide, segments, accordi...</td>\n",
       "      <td>[vector]</td>\n",
       "      <td>[dataframe, loops, rcpp, performance]</td>\n",
       "    </tr>\n",
       "    <tr>\n",
       "      <th>79443</th>\n",
       "      <td>29376237</td>\n",
       "      <td>[need, convert, array, data, frame, way, row, ...</td>\n",
       "      <td>[arrays, dataframe]</td>\n",
       "      <td>[dataframe, list, arrays, columnname]</td>\n",
       "    </tr>\n",
       "    <tr>\n",
       "      <th>59393</th>\n",
       "      <td>25284161</td>\n",
       "      <td>[two, datasets, including, training, test, tra...</td>\n",
       "      <td>[apriori, arules]</td>\n",
       "      <td>[arules, apriori, analytics, rules]</td>\n",
       "    </tr>\n",
       "    <tr>\n",
       "      <th>72735</th>\n",
       "      <td>28186861</td>\n",
       "      <td>[using, ggplot, dual, axis, function, stack, o...</td>\n",
       "      <td>[plot, ggplot2, legend, axis-labels]</td>\n",
       "      <td>[ggplot2, gtable, legend, facet-wrap]</td>\n",
       "    </tr>\n",
       "    <tr>\n",
       "      <th>33460</th>\n",
       "      <td>18515299</td>\n",
       "      <td>[would, like, shrink, width, plot, words, look...</td>\n",
       "      <td>[graph, plot]</td>\n",
       "      <td>[plot, graph, legend, axis]</td>\n",
       "    </tr>\n",
       "  </tbody>\n",
       "</table>\n",
       "</div>"
      ],
      "text/plain": [
       "              Id                                               Body  \\\n",
       "121408  36361425  [struggling, developing, bubble, chart, plotly...   \n",
       "56385   24626769  [plotting, stacked, bar, graph, use, geom, tex...   \n",
       "111850  34855721  [two, data, frame, df, df, ncol, nrow, col, co...   \n",
       "125165  36889656  [two, data, frames, dput, data, frames, given,...   \n",
       "120460  36206168  [time, series, climate, data, years, base, plo...   \n",
       "108412  34259208  [trying, modify, values, column, rows, specifi...   \n",
       "47063   22428997  [struggling, hours, get, match, replace, gsub,...   \n",
       "133893  38207390  [want, make, curved, text, around, ggplot, coo...   \n",
       "78189   29163079  [trouble, functions, tried, vectorize, functio...   \n",
       "25376   15945396  [simple, dataframe, two, vectors, speed, id, l...   \n",
       "78535   29222603  [using, shiny, application, may, take, time, s...   \n",
       "86126   30607496  [making, package, using, devtools, roxygen, ge...   \n",
       "53199   23872120  [trying, scrape, following, webpage, using, xm...   \n",
       "146258  40034750  [simplest, way, verify, factor, variable, leve...   \n",
       "343      1671521  [network, loaded, igraph, object, vertices, ed...   \n",
       "89589   31235227  [long, vector, need, divide, segments, accordi...   \n",
       "79443   29376237  [need, convert, array, data, frame, way, row, ...   \n",
       "59393   25284161  [two, datasets, including, training, test, tra...   \n",
       "72735   28186861  [using, ggplot, dual, axis, function, stack, o...   \n",
       "33460   18515299  [would, like, shrink, width, plot, words, look...   \n",
       "\n",
       "                                 Actual Tags  \\\n",
       "121408                              [plotly]   \n",
       "56385                   [ggplot2, geom-text]   \n",
       "111850                           [dataframe]   \n",
       "125165           [search, data-manipulation]   \n",
       "120460           [ggplot2, time-series, zoo]   \n",
       "108412                               [dplyr]   \n",
       "47063                          [regex, gsub]   \n",
       "133893                  [dataframe, ggplot2]   \n",
       "78189                            [integrate]   \n",
       "25376                               [subset]   \n",
       "78535                        [slider, shiny]   \n",
       "86126      [pdf, devtools, manual, roxygen2]   \n",
       "53199       [xml, web-scraping, rcurl, httr]   \n",
       "146258                     [factors, levels]   \n",
       "343              [social-networking, igraph]   \n",
       "89589                               [vector]   \n",
       "79443                    [arrays, dataframe]   \n",
       "59393                      [apriori, arules]   \n",
       "72735   [plot, ggplot2, legend, axis-labels]   \n",
       "33460                          [graph, plot]   \n",
       "\n",
       "                                           Recommend Tags  \n",
       "121408              [plotly, googlevis, shiny, rmarkdown]  \n",
       "56385           [ggplot2, geom-bar, geom-text, dataframe]  \n",
       "111850                 [dataframe, list, plyr, datatable]  \n",
       "125165            [time, dataframe, matching, data.table]  \n",
       "120460                  [plot, ggplot2, time-series, zoo]  \n",
       "108412                   [dplyr, dataframe, tidyr, split]  \n",
       "47063                      [regex, string, gsub, stringr]  \n",
       "133893                  [ggplot2, plot, bar-chart, graph]  \n",
       "78189         [integration, function, package, bitbucket]  \n",
       "25376                     [dataframe, apply, dplyr, plyr]  \n",
       "78535              [statistics, dplyr, shiny, data.table]  \n",
       "86126                 [devtools, rstudio, roxygen2, cran]  \n",
       "53199          [web-scraping, xml, html, screen-scraping]  \n",
       "146258          [gwidgets, handler, user-interface, list]  \n",
       "343     [vector, for-loop, data-manipulation, signal-p...  \n",
       "89589               [dataframe, loops, rcpp, performance]  \n",
       "79443               [dataframe, list, arrays, columnname]  \n",
       "59393                 [arules, apriori, analytics, rules]  \n",
       "72735               [ggplot2, gtable, legend, facet-wrap]  \n",
       "33460                         [plot, graph, legend, axis]  "
      ]
     },
     "execution_count": 23,
     "metadata": {},
     "output_type": "execute_result"
    }
   ],
   "source": [
    "start_time = time.time()\n",
    "predict = test.apply(lambda x: recommend_tag(x, 4, 15), axis = 1)\n",
    "predict.columns = ['Id', 'Body', 'Actual Tags', 'Recommend Tags']\n",
    "print(str((time.time() - start_time) / 60) + ' minutes')\n",
    "predict.head(20)"
   ]
  },
  {
   "cell_type": "code",
   "execution_count": null,
   "metadata": {
    "collapsed": true
   },
   "outputs": [],
   "source": []
  }
 ],
 "metadata": {
  "kernelspec": {
   "display_name": "Python 3",
   "language": "python",
   "name": "python3"
  },
  "language_info": {
   "codemirror_mode": {
    "name": "ipython",
    "version": 3
   },
   "file_extension": ".py",
   "mimetype": "text/x-python",
   "name": "python",
   "nbconvert_exporter": "python",
   "pygments_lexer": "ipython3",
   "version": "3.5.1"
  }
 },
 "nbformat": 4,
 "nbformat_minor": 1
}
