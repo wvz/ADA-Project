{
 "cells": [
  {
   "cell_type": "markdown",
   "metadata": {},
   "source": [
    "'''\n",
    "Must-have features:\n",
    "1.time\n",
    "2.title length\n",
    "3.body length (cleaned)\n",
    "4.tags length\n",
    "5.codes included\n",
    "6.codes length\n",
    "7.web links included\n",
    "8.images included\n",
    "9.code comments included\n",
    "10.code comments length\n",
    "\n",
    "Future features:\n",
    "1.tags quality\n",
    "2.user info.\n",
    "'''"
   ]
  },
  {
   "cell_type": "code",
   "execution_count": 24,
   "metadata": {
    "collapsed": true
   },
   "outputs": [],
   "source": [
    "import pandas as pd\n",
    "import numpy as np\n",
    "import matplotlib.pyplot as plt\n",
    "import re\n",
    "import nltk\n",
    "from nltk.corpus import stopwords\n",
    "import random as rd\n",
    "from textblob import TextBlob\n",
    "import requests\n",
    "import time\n",
    "from random import randint\n",
    "\n",
    "data=pd.read_csv(\"Answers.csv\",encoding= 'iso-8859-1')"
   ]
  },
  {
   "cell_type": "code",
   "execution_count": 25,
   "metadata": {
    "collapsed": false
   },
   "outputs": [
    {
     "data": {
      "text/html": [
       "<div>\n",
       "<table border=\"1\" class=\"dataframe\">\n",
       "  <thead>\n",
       "    <tr style=\"text-align: right;\">\n",
       "      <th></th>\n",
       "      <th>Id</th>\n",
       "      <th>OwnerUserId</th>\n",
       "      <th>CreationDate</th>\n",
       "      <th>ParentId</th>\n",
       "      <th>Score</th>\n",
       "      <th>Body</th>\n",
       "    </tr>\n",
       "  </thead>\n",
       "  <tbody>\n",
       "    <tr>\n",
       "      <th>0</th>\n",
       "      <td>497</td>\n",
       "      <td>50</td>\n",
       "      <td>2008-08-02T16:56:53Z</td>\n",
       "      <td>469</td>\n",
       "      <td>4</td>\n",
       "      <td>&lt;p&gt;open up a terminal (Applications-&amp;gt;Utilit...</td>\n",
       "    </tr>\n",
       "    <tr>\n",
       "      <th>1</th>\n",
       "      <td>518</td>\n",
       "      <td>153</td>\n",
       "      <td>2008-08-02T17:42:28Z</td>\n",
       "      <td>469</td>\n",
       "      <td>2</td>\n",
       "      <td>&lt;p&gt;I haven't been able to find anything that d...</td>\n",
       "    </tr>\n",
       "    <tr>\n",
       "      <th>2</th>\n",
       "      <td>536</td>\n",
       "      <td>161</td>\n",
       "      <td>2008-08-02T18:49:07Z</td>\n",
       "      <td>502</td>\n",
       "      <td>9</td>\n",
       "      <td>&lt;p&gt;You can use ImageMagick's convert utility f...</td>\n",
       "    </tr>\n",
       "    <tr>\n",
       "      <th>3</th>\n",
       "      <td>538</td>\n",
       "      <td>156</td>\n",
       "      <td>2008-08-02T18:56:56Z</td>\n",
       "      <td>535</td>\n",
       "      <td>23</td>\n",
       "      <td>&lt;p&gt;One possibility is Hudson.  It's written in...</td>\n",
       "    </tr>\n",
       "    <tr>\n",
       "      <th>4</th>\n",
       "      <td>541</td>\n",
       "      <td>157</td>\n",
       "      <td>2008-08-02T19:06:40Z</td>\n",
       "      <td>535</td>\n",
       "      <td>20</td>\n",
       "      <td>&lt;p&gt;We run &lt;a href=\"http://buildbot.net/trac\"&gt;B...</td>\n",
       "    </tr>\n",
       "  </tbody>\n",
       "</table>\n",
       "</div>"
      ],
      "text/plain": [
       "    Id  OwnerUserId          CreationDate  ParentId  Score  \\\n",
       "0  497           50  2008-08-02T16:56:53Z       469      4   \n",
       "1  518          153  2008-08-02T17:42:28Z       469      2   \n",
       "2  536          161  2008-08-02T18:49:07Z       502      9   \n",
       "3  538          156  2008-08-02T18:56:56Z       535     23   \n",
       "4  541          157  2008-08-02T19:06:40Z       535     20   \n",
       "\n",
       "                                                Body  \n",
       "0  <p>open up a terminal (Applications-&gt;Utilit...  \n",
       "1  <p>I haven't been able to find anything that d...  \n",
       "2  <p>You can use ImageMagick's convert utility f...  \n",
       "3  <p>One possibility is Hudson.  It's written in...  \n",
       "4  <p>We run <a href=\"http://buildbot.net/trac\">B...  "
      ]
     },
     "execution_count": 25,
     "metadata": {},
     "output_type": "execute_result"
    }
   ],
   "source": [
    "data.head()"
   ]
  },
  {
   "cell_type": "code",
   "execution_count": 26,
   "metadata": {
    "collapsed": true
   },
   "outputs": [],
   "source": [
    "### Count how many code blocks, code comments, web link and images included in the text.\n",
    "### Treat it as text features.\n",
    "from html.parser import HTMLParser\n",
    "    \n",
    "class MLStripper(HTMLParser):\n",
    "    def __init__(self):\n",
    "        self.reset()\n",
    "        self.strict = False\n",
    "        self.convert_charrefs= True\n",
    "        self.fed = []\n",
    "    def handle_data(self, d):\n",
    "        self.fed.append(d)\n",
    "    def get_data(self):\n",
    "        return ''.join(self.fed)\n",
    "    \n",
    "def strip_tags(html):\n",
    "    s = MLStripper()\n",
    "    s.feed(html)\n",
    "    return s.get_data()\n",
    "\n",
    "def count_code_blocks(s):\n",
    "    \n",
    "    code_blocks = re.findall(r\"<code>([\\w\\W]*?)</code>\",s)\n",
    "    return(len(code_blocks))\n",
    "\n",
    "def count_code_length(s):\n",
    "    \n",
    "    code_blocks = re.findall(r\"<code>([\\w\\W]*?)</code>\",s)\n",
    "    codes=\" \".join(code_blocks)\n",
    "    codes = strip_tags(codes) #remove html tags\n",
    "    codes = re.sub(r\" +\",\" \",codes)\n",
    "    codes = codes.strip(\" \")\n",
    "    \n",
    "    return(len(codes))\n",
    "\n",
    "def count_code_comments(s):\n",
    "    \n",
    "    code_blocks = re.findall(r\"<code>([\\w\\W]*?)</code>\",s)\n",
    "    comments = re.findall(r\"#([^<]*)\\n\",s)\n",
    "    real_comments =[comments[i] for i in range(len(comments)) if comments[i] in  \" \".join(code_blocks)]# extract comments in codes\n",
    "    \n",
    "    return(len(real_comments))\n",
    "\n",
    "def count_comments_length(s):\n",
    "    \n",
    "    code_blocks = re.findall(r\"<code>([\\w\\W]*?)</code>\",s)\n",
    "    comments = re.findall(r\"#([^<]*)\\n\",s)\n",
    "    real_comments =[comments[i] for i in range(len(comments)) if comments[i] in  \" \".join(code_blocks)]# extract comments in codes\n",
    "    comments=\" \".join(real_comments)\n",
    "    comments = strip_tags(comments) #remove html tags\n",
    "    comments = re.sub(r\" +\",\" \",comments)\n",
    "    comments = comments.strip(\" \")\n",
    "    \n",
    "    return(len(comments))\n",
    "\n",
    "def count_url(s):\n",
    "    \n",
    "    url = re.findall(r'<a [\\w\\W]+>(.*)</a>',s)\n",
    "    \n",
    "    return(len(url))\n",
    "\n",
    "def count_img(s):\n",
    "    \n",
    "    img = re.findall(r\"<img([\\w\\W]*?)>\",s)\n",
    "\n",
    "    return(len(img))\n",
    "\n",
    "    "
   ]
  },
  {
   "cell_type": "code",
   "execution_count": 27,
   "metadata": {
    "collapsed": true
   },
   "outputs": [],
   "source": [
    "text_features=data\n",
    "text_features['code_blocks_count']= text_features['Body'].map(lambda x:count_code_blocks(x))\n",
    "text_features['code_comments_count']= text_features['Body'].map(lambda x:count_code_comments(x))\n",
    "text_features['url_count']= text_features['Body'].map(lambda x:count_url(x))\n",
    "text_features['img_count']= text_features['Body'].map(lambda x:count_img(x))\n"
   ]
  },
  {
   "cell_type": "code",
   "execution_count": 28,
   "metadata": {
    "collapsed": false
   },
   "outputs": [],
   "source": [
    "text_features['code_length']= text_features['Body'].map(lambda x:count_code_length(x))\n",
    "text_features['comments_length']= text_features['Body'].map(lambda x:count_comments_length(x))"
   ]
  },
  {
   "cell_type": "code",
   "execution_count": 29,
   "metadata": {
    "collapsed": false
   },
   "outputs": [
    {
     "data": {
      "text/plain": [
       "u'<p>As far as I can tell Python, up through 2.5, only supports hexadecimal &amp; octal literals.  I did find some discussions about adding binary to future versions but nothing definite.</p>'"
      ]
     },
     "execution_count": 29,
     "metadata": {},
     "output_type": "execute_result"
    }
   ],
   "source": [
    "text_features['Body'][17]"
   ]
  },
  {
   "cell_type": "code",
   "execution_count": 30,
   "metadata": {
    "collapsed": false
   },
   "outputs": [
    {
     "data": {
      "text/plain": [
       "0"
      ]
     },
     "execution_count": 30,
     "metadata": {},
     "output_type": "execute_result"
    }
   ],
   "source": [
    "text_features['url_count'][17]"
   ]
  },
  {
   "cell_type": "code",
   "execution_count": 31,
   "metadata": {
    "collapsed": false
   },
   "outputs": [
    {
     "data": {
      "text/plain": [
       "0"
      ]
     },
     "execution_count": 31,
     "metadata": {},
     "output_type": "execute_result"
    }
   ],
   "source": [
    "text_features['comments_length'][17]"
   ]
  },
  {
   "cell_type": "code",
   "execution_count": 32,
   "metadata": {
    "collapsed": false
   },
   "outputs": [],
   "source": [
    "del text_features['Body']"
   ]
  },
  {
   "cell_type": "code",
   "execution_count": null,
   "metadata": {
    "collapsed": true
   },
   "outputs": [],
   "source": [
    "text_features.head()\n",
    "text_features.to_csv('python_answers_features.csv', sep=',', encoding='iso-8859-1')"
   ]
  },
  {
   "cell_type": "code",
   "execution_count": 23,
   "metadata": {
    "collapsed": false
   },
   "outputs": [
    {
     "data": {
      "text/html": [
       "<div>\n",
       "<table border=\"1\" class=\"dataframe\">\n",
       "  <thead>\n",
       "    <tr style=\"text-align: right;\">\n",
       "      <th></th>\n",
       "      <th>Id</th>\n",
       "      <th>OwnerUserId</th>\n",
       "      <th>CreationDate</th>\n",
       "      <th>Score</th>\n",
       "      <th>Title</th>\n",
       "      <th>code_blocks_count</th>\n",
       "      <th>code_comments_count</th>\n",
       "      <th>url_count</th>\n",
       "      <th>img_count</th>\n",
       "      <th>code_length</th>\n",
       "      <th>comments_length</th>\n",
       "    </tr>\n",
       "  </thead>\n",
       "  <tbody>\n",
       "    <tr>\n",
       "      <th>0</th>\n",
       "      <td>469</td>\n",
       "      <td>147</td>\n",
       "      <td>2008-08-02T15:11:16Z</td>\n",
       "      <td>21</td>\n",
       "      <td>How can I find the full path to a font from it...</td>\n",
       "      <td>0</td>\n",
       "      <td>0</td>\n",
       "      <td>0</td>\n",
       "      <td>0</td>\n",
       "      <td>0</td>\n",
       "      <td>0</td>\n",
       "    </tr>\n",
       "    <tr>\n",
       "      <th>1</th>\n",
       "      <td>502</td>\n",
       "      <td>147</td>\n",
       "      <td>2008-08-02T17:01:58Z</td>\n",
       "      <td>27</td>\n",
       "      <td>Get a preview JPEG of a PDF on Windows?</td>\n",
       "      <td>0</td>\n",
       "      <td>0</td>\n",
       "      <td>1</td>\n",
       "      <td>0</td>\n",
       "      <td>0</td>\n",
       "      <td>0</td>\n",
       "    </tr>\n",
       "    <tr>\n",
       "      <th>2</th>\n",
       "      <td>535</td>\n",
       "      <td>154</td>\n",
       "      <td>2008-08-02T18:43:54Z</td>\n",
       "      <td>40</td>\n",
       "      <td>Continuous Integration System for a Python Cod...</td>\n",
       "      <td>0</td>\n",
       "      <td>0</td>\n",
       "      <td>0</td>\n",
       "      <td>0</td>\n",
       "      <td>0</td>\n",
       "      <td>0</td>\n",
       "    </tr>\n",
       "    <tr>\n",
       "      <th>3</th>\n",
       "      <td>594</td>\n",
       "      <td>116</td>\n",
       "      <td>2008-08-03T01:15:08Z</td>\n",
       "      <td>25</td>\n",
       "      <td>cx_Oracle: How do I iterate over a result set?</td>\n",
       "      <td>0</td>\n",
       "      <td>0</td>\n",
       "      <td>0</td>\n",
       "      <td>0</td>\n",
       "      <td>0</td>\n",
       "      <td>0</td>\n",
       "    </tr>\n",
       "    <tr>\n",
       "      <th>4</th>\n",
       "      <td>683</td>\n",
       "      <td>199</td>\n",
       "      <td>2008-08-03T13:19:16Z</td>\n",
       "      <td>28</td>\n",
       "      <td>Using 'in' to match an attribute of Python obj...</td>\n",
       "      <td>1</td>\n",
       "      <td>0</td>\n",
       "      <td>0</td>\n",
       "      <td>0</td>\n",
       "      <td>57</td>\n",
       "      <td>0</td>\n",
       "    </tr>\n",
       "  </tbody>\n",
       "</table>\n",
       "</div>"
      ],
      "text/plain": [
       "    Id  OwnerUserId          CreationDate  Score  \\\n",
       "0  469          147  2008-08-02T15:11:16Z     21   \n",
       "1  502          147  2008-08-02T17:01:58Z     27   \n",
       "2  535          154  2008-08-02T18:43:54Z     40   \n",
       "3  594          116  2008-08-03T01:15:08Z     25   \n",
       "4  683          199  2008-08-03T13:19:16Z     28   \n",
       "\n",
       "                                               Title  code_blocks_count  \\\n",
       "0  How can I find the full path to a font from it...                  0   \n",
       "1            Get a preview JPEG of a PDF on Windows?                  0   \n",
       "2  Continuous Integration System for a Python Cod...                  0   \n",
       "3     cx_Oracle: How do I iterate over a result set?                  0   \n",
       "4  Using 'in' to match an attribute of Python obj...                  1   \n",
       "\n",
       "   code_comments_count  url_count  img_count  code_length  comments_length  \n",
       "0                    0          0          0            0                0  \n",
       "1                    0          1          0            0                0  \n",
       "2                    0          0          0            0                0  \n",
       "3                    0          0          0            0                0  \n",
       "4                    0          0          0           57                0  "
      ]
     },
     "execution_count": 23,
     "metadata": {},
     "output_type": "execute_result"
    }
   ],
   "source": [
    "text_features.head()"
   ]
  },
  {
   "cell_type": "code",
   "execution_count": null,
   "metadata": {
    "collapsed": true
   },
   "outputs": [],
   "source": []
  }
 ],
 "metadata": {
  "kernelspec": {
   "display_name": "Python 2",
   "language": "python",
   "name": "python2"
  },
  "language_info": {
   "codemirror_mode": {
    "name": "ipython",
    "version": 2
   },
   "file_extension": ".py",
   "mimetype": "text/x-python",
   "name": "python",
   "nbconvert_exporter": "python",
   "pygments_lexer": "ipython2",
   "version": "2.7.11"
  }
 },
 "nbformat": 4,
 "nbformat_minor": 0
}
