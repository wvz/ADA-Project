{
 "cells": [
  {
   "cell_type": "code",
   "execution_count": 9,
   "metadata": {
    "collapsed": true
   },
   "outputs": [],
   "source": [
    "# Parse HTML\n",
    "from html.parser import HTMLParser\n",
    "import re\n",
    "import nltk\n",
    "from nltk.corpus import stopwords\n",
    "from collections import Counter\n",
    "from nltk import word_tokenize, WordNetLemmatizer\n",
    "\n",
    "stoplist = stopwords.words('english')\n",
    "wnl = WordNetLemmatizer()\n",
    "\n",
    "class Parser(HTMLParser):\n",
    "    def __init__(self):\n",
    "        self.reset()\n",
    "        self.strict = False\n",
    "        self.convert_charrefs = True\n",
    "        self.fed = []\n",
    "    def handle_data(self, d):\n",
    "        self.fed.append(d)\n",
    "    def get_data(self):\n",
    "        return ''.join(self.fed)\n",
    "\n",
    "def clean(html):\n",
    "    s = Parser()\n",
    "    s.feed(html)\n",
    "    html_text = re.sub(\"[^a-zA-Z]\", \" \", s.get_data()).lower().split()\n",
    "    words = [word for word in html_text if len(word) > 1 and not word in stoplist]\n",
    "    return(words)"
   ]
  },
  {
   "cell_type": "code",
   "execution_count": 10,
   "metadata": {
    "collapsed": false,
    "scrolled": true
   },
   "outputs": [
    {
     "name": "stdout",
     "output_type": "stream",
     "text": [
      "1.6493119160334269 minutes\n"
     ]
    }
   ],
   "source": [
    "import pandas as pd\n",
    "import time\n",
    "\n",
    "start_time = time.time()\n",
    "questions = pd.read_csv(\"./data/rquestions/Questions.csv\", encoding = 'iso-8859-1')\n",
    "questions['Title'] = questions['Title'].map(lambda x: clean(x))\n",
    "questions['Body'] = questions['Body'].map(lambda x: clean(x))\n",
    "print(str((time.time() - start_time) / 60) + ' minutes')"
   ]
  },
  {
   "cell_type": "code",
   "execution_count": 11,
   "metadata": {
    "collapsed": true
   },
   "outputs": [],
   "source": [
    "import os\n",
    "\n",
    "#path = '/Users/jingweili/Documents/Github/project/data/rquestions'\n",
    "#cleaned_data.to_csv(os.path.join(path, r'r_answers_clean.csv'), encoding = 'utf-8', index = False)"
   ]
  },
  {
   "cell_type": "code",
   "execution_count": 12,
   "metadata": {
    "collapsed": false,
    "scrolled": true
   },
   "outputs": [
    {
     "data": {
      "text/html": [
       "<div>\n",
       "<table border=\"1\" class=\"dataframe\">\n",
       "  <thead>\n",
       "    <tr style=\"text-align: right;\">\n",
       "      <th></th>\n",
       "      <th>Id</th>\n",
       "      <th>Tags</th>\n",
       "    </tr>\n",
       "  </thead>\n",
       "  <tbody>\n",
       "    <tr>\n",
       "      <th>0</th>\n",
       "      <td>77434</td>\n",
       "      <td>[vector]</td>\n",
       "    </tr>\n",
       "    <tr>\n",
       "      <th>1</th>\n",
       "      <td>79709</td>\n",
       "      <td>[memory, function, global-variables, side-effe...</td>\n",
       "    </tr>\n",
       "    <tr>\n",
       "      <th>2</th>\n",
       "      <td>95007</td>\n",
       "      <td>[math, statistics]</td>\n",
       "    </tr>\n",
       "    <tr>\n",
       "      <th>3</th>\n",
       "      <td>103312</td>\n",
       "      <td>[file, file-io, eof]</td>\n",
       "    </tr>\n",
       "    <tr>\n",
       "      <th>4</th>\n",
       "      <td>255697</td>\n",
       "      <td>[math, statistics, bayesian, dirichlet]</td>\n",
       "    </tr>\n",
       "  </tbody>\n",
       "</table>\n",
       "</div>"
      ],
      "text/plain": [
       "       Id                                               Tags\n",
       "0   77434                                           [vector]\n",
       "1   79709  [memory, function, global-variables, side-effe...\n",
       "2   95007                                 [math, statistics]\n",
       "3  103312                               [file, file-io, eof]\n",
       "4  255697            [math, statistics, bayesian, dirichlet]"
      ]
     },
     "execution_count": 12,
     "metadata": {},
     "output_type": "execute_result"
    }
   ],
   "source": [
    "tags_raw = pd.read_csv('./data/rquestions/Tags.csv')\n",
    "tags = tags_raw.groupby('Id')['Tag'].apply(list)\n",
    "tags = pd.DataFrame({'Id': tags.index, 'Tags': tags.values})\n",
    "tags.head()"
   ]
  },
  {
   "cell_type": "code",
   "execution_count": 13,
   "metadata": {
    "collapsed": false
   },
   "outputs": [
    {
     "data": {
      "text/html": [
       "<div>\n",
       "<table border=\"1\" class=\"dataframe\">\n",
       "  <thead>\n",
       "    <tr style=\"text-align: right;\">\n",
       "      <th></th>\n",
       "      <th>Id</th>\n",
       "      <th>Body</th>\n",
       "      <th>Tags</th>\n",
       "    </tr>\n",
       "  </thead>\n",
       "  <tbody>\n",
       "    <tr>\n",
       "      <th>0</th>\n",
       "      <td>77434</td>\n",
       "      <td>[suppose, vector, nested, dataframe, one, two,...</td>\n",
       "      <td>[vector]</td>\n",
       "    </tr>\n",
       "    <tr>\n",
       "      <th>1</th>\n",
       "      <td>79709</td>\n",
       "      <td>[function, inside, loop, inside, function, inn...</td>\n",
       "      <td>[memory, function, global-variables, side-effe...</td>\n",
       "    </tr>\n",
       "    <tr>\n",
       "      <th>2</th>\n",
       "      <td>95007</td>\n",
       "      <td>[mystified, quantile, function, day, intuitive...</td>\n",
       "      <td>[math, statistics]</td>\n",
       "    </tr>\n",
       "    <tr>\n",
       "      <th>3</th>\n",
       "      <td>103312</td>\n",
       "      <td>[test, eof, flag, example, file, fname, rb, re...</td>\n",
       "      <td>[file, file-io, eof]</td>\n",
       "    </tr>\n",
       "    <tr>\n",
       "      <th>4</th>\n",
       "      <td>255697</td>\n",
       "      <td>[looking, package, used, train, dirichlet, pri...</td>\n",
       "      <td>[math, statistics, bayesian, dirichlet]</td>\n",
       "    </tr>\n",
       "  </tbody>\n",
       "</table>\n",
       "</div>"
      ],
      "text/plain": [
       "       Id                                               Body  \\\n",
       "0   77434  [suppose, vector, nested, dataframe, one, two,...   \n",
       "1   79709  [function, inside, loop, inside, function, inn...   \n",
       "2   95007  [mystified, quantile, function, day, intuitive...   \n",
       "3  103312  [test, eof, flag, example, file, fname, rb, re...   \n",
       "4  255697  [looking, package, used, train, dirichlet, pri...   \n",
       "\n",
       "                                                Tags  \n",
       "0                                           [vector]  \n",
       "1  [memory, function, global-variables, side-effe...  \n",
       "2                                 [math, statistics]  \n",
       "3                               [file, file-io, eof]  \n",
       "4            [math, statistics, bayesian, dirichlet]  "
      ]
     },
     "execution_count": 13,
     "metadata": {},
     "output_type": "execute_result"
    }
   ],
   "source": [
    "doc = questions[['Id', 'Body']]\n",
    "doc = doc.join(tags.set_index('Id'), on = 'Id', how = 'inner')\n",
    "doc.head()"
   ]
  },
  {
   "cell_type": "code",
   "execution_count": 16,
   "metadata": {
    "collapsed": false
   },
   "outputs": [],
   "source": [
    "from sklearn.cross_validation import train_test_split\n",
    "\n",
    "train, test = train_test_split(doc, test_size = 0.2)"
   ]
  },
  {
   "cell_type": "code",
   "execution_count": 19,
   "metadata": {
    "collapsed": false
   },
   "outputs": [
    {
     "name": "stderr",
     "output_type": "stream",
     "text": [
      "//anaconda/lib/python3.5/site-packages/gensim/utils.py:1015: UserWarning: Pattern library is not installed, lemmatization won't be available.\n",
      "  warnings.warn(\"Pattern library is not installed, lemmatization won't be available.\")\n"
     ]
    }
   ],
   "source": [
    "import gensim\n",
    "from gensim import corpora, models\n",
    "\n",
    "dictionary = corpora.Dictionary(doc['Body'])\n",
    "word_id = dictionary.token2id\n",
    "corpus_train = [dictionary.doc2bow(text) for text in train['Body']]\n",
    "corpus_test = [dictionary.doc2bow(text) for text in test['Body']]"
   ]
  },
  {
   "cell_type": "code",
   "execution_count": 28,
   "metadata": {
    "collapsed": false
   },
   "outputs": [],
   "source": [
    "ldamodel = gensim.models.ldamodel.LdaModel(corpus_train, num_topics = 50, id2word = dictionary, \n",
    "                                           chunksize = 10000, passes = 1, update_every = 1)"
   ]
  },
  {
   "cell_type": "code",
   "execution_count": 29,
   "metadata": {
    "collapsed": false
   },
   "outputs": [
    {
     "name": "stdout",
     "output_type": "stream",
     "text": [
      "[(23, '0.025*\"data\" + 0.025*\"plot\" + 0.020*\"col\" + 0.018*\"xts\"'), (17, '0.014*\"name\" + 0.012*\"rstudio\" + 0.010*\"com\" + 0.010*\"server\"'), (31, '0.038*\"plot\" + 0.019*\"data\" + 0.017*\"map\" + 0.015*\"like\"')]\n"
     ]
    }
   ],
   "source": [
    "print(ldamodel.print_topics(num_topics = 3, num_words = 4))"
   ]
  },
  {
   "cell_type": "code",
   "execution_count": 40,
   "metadata": {
    "collapsed": true
   },
   "outputs": [],
   "source": [
    "from operator import itemgetter\n",
    "\n",
    "def get_topic(ldamodel, document):\n",
    "    topic_prob = ldamodel.get_document_topics(document)\n",
    "    topic = max(topic_prob, key = itemgetter(1))[0]\n",
    "    return(topic)"
   ]
  },
  {
   "cell_type": "code",
   "execution_count": 60,
   "metadata": {
    "collapsed": false
   },
   "outputs": [],
   "source": [
    "train['Topic'] = [get_topic(ldamodel, doc) for doc in corpus_train]\n",
    "test['Topic'] = [get_topic(ldamodel, doc) for doc in corpus_test]"
   ]
  },
  {
   "cell_type": "code",
   "execution_count": 61,
   "metadata": {
    "collapsed": false,
    "scrolled": true
   },
   "outputs": [
    {
     "data": {
      "text/html": [
       "<div>\n",
       "<table border=\"1\" class=\"dataframe\">\n",
       "  <thead>\n",
       "    <tr style=\"text-align: right;\">\n",
       "      <th></th>\n",
       "      <th>Id</th>\n",
       "      <th>Body</th>\n",
       "      <th>Tags</th>\n",
       "      <th>Topic</th>\n",
       "    </tr>\n",
       "  </thead>\n",
       "  <tbody>\n",
       "    <tr>\n",
       "      <th>89037</th>\n",
       "      <td>31136471</td>\n",
       "      <td>[split, matrix, two, matrix, based, column, na...</td>\n",
       "      <td>[matrix]</td>\n",
       "      <td>34</td>\n",
       "    </tr>\n",
       "    <tr>\n",
       "      <th>69014</th>\n",
       "      <td>27355363</td>\n",
       "      <td>[character, vars, vars, cogd, relevel, cbsnivc...</td>\n",
       "      <td>[character, gsub]</td>\n",
       "      <td>23</td>\n",
       "    </tr>\n",
       "    <tr>\n",
       "      <th>104390</th>\n",
       "      <td>33639556</td>\n",
       "      <td>[goal, trying, modify, shiny, app, previously,...</td>\n",
       "      <td>[ggplot2, shiny, heatmap]</td>\n",
       "      <td>46</td>\n",
       "    </tr>\n",
       "    <tr>\n",
       "      <th>37968</th>\n",
       "      <td>19953898</td>\n",
       "      <td>[suppose, data, frame, number, factors, varyin...</td>\n",
       "      <td>[dataframe, apply, r-factor]</td>\n",
       "      <td>11</td>\n",
       "    </tr>\n",
       "    <tr>\n",
       "      <th>78194</th>\n",
       "      <td>29165425</td>\n",
       "      <td>[efficient, way, get, rank, minimum, maximum, ...</td>\n",
       "      <td>[optimization, vector, minimum, rank]</td>\n",
       "      <td>49</td>\n",
       "    </tr>\n",
       "  </tbody>\n",
       "</table>\n",
       "</div>"
      ],
      "text/plain": [
       "              Id                                               Body  \\\n",
       "89037   31136471  [split, matrix, two, matrix, based, column, na...   \n",
       "69014   27355363  [character, vars, vars, cogd, relevel, cbsnivc...   \n",
       "104390  33639556  [goal, trying, modify, shiny, app, previously,...   \n",
       "37968   19953898  [suppose, data, frame, number, factors, varyin...   \n",
       "78194   29165425  [efficient, way, get, rank, minimum, maximum, ...   \n",
       "\n",
       "                                         Tags  Topic  \n",
       "89037                                [matrix]     34  \n",
       "69014                       [character, gsub]     23  \n",
       "104390              [ggplot2, shiny, heatmap]     46  \n",
       "37968            [dataframe, apply, r-factor]     11  \n",
       "78194   [optimization, vector, minimum, rank]     49  "
      ]
     },
     "execution_count": 61,
     "metadata": {},
     "output_type": "execute_result"
    }
   ],
   "source": [
    "train.head()"
   ]
  },
  {
   "cell_type": "code",
   "execution_count": 62,
   "metadata": {
    "collapsed": true
   },
   "outputs": [],
   "source": [
    "train.to_pickle('train.pkl')\n",
    "test.to_pickle('test.pkl')"
   ]
  },
  {
   "cell_type": "code",
   "execution_count": null,
   "metadata": {
    "collapsed": true
   },
   "outputs": [],
   "source": []
  }
 ],
 "metadata": {
  "kernelspec": {
   "display_name": "Python 3",
   "language": "python",
   "name": "python3"
  },
  "language_info": {
   "codemirror_mode": {
    "name": "ipython",
    "version": 3
   },
   "file_extension": ".py",
   "mimetype": "text/x-python",
   "name": "python",
   "nbconvert_exporter": "python",
   "pygments_lexer": "ipython3",
   "version": "3.5.1"
  }
 },
 "nbformat": 4,
 "nbformat_minor": 1
}
