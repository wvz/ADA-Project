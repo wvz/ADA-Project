{
 "cells": [
  {
   "cell_type": "code",
   "execution_count": 2,
   "metadata": {
    "collapsed": false
   },
   "outputs": [
    {
     "data": {
      "text/plain": [
       "(147075, 6)"
      ]
     },
     "execution_count": 2,
     "metadata": {},
     "output_type": "execute_result"
    }
   ],
   "source": [
    "import numpy as np\n",
    "import scipy.stats as ss\n",
    "import pandas as pd\n",
    "import math \n",
    "import matplotlib.pyplot as plt\n",
    "import datetime as dt\n",
    "from collections import Counter\n",
    "from nltk.corpus import stopwords\n",
    "from dateutil.parser import parse\n",
    "from datetime import datetime\n",
    "from datetime import timedelta\n",
    "from operator import itemgetter\n",
    "from wordcloud import WordCloud\n",
    "#plt.style.use('fivethirtyeight')\n",
    "plt.style.use('ggplot')\n",
    "\n",
    "path1 = '~/Python_Questions_clean.csv'\n",
    "path2 = '~/Python_Answers_clean.csv'\n",
    "path3 = '~/Documents/Semester3/G5291/ADA-Project/dataset/Tags.csv'\n",
    "path4 = '~/Documents/Semester3/G5291/ADA-Project/data/r_questions_clean.csv'\n",
    "\n",
    "\n",
    "Questions = pd.read_csv(path1, encoding = 'iso-8859-1', sep = '\\t')  \n",
    "Answers = pd.read_csv(path2, encoding = 'iso-8859-1', sep = '\\t')  \n",
    "Tags = pd.read_csv(path3)  \n",
    "R_Questions = pd.read_csv(path4, encoding = 'iso-8859-1', sep = ',') \n",
    "(Questions.head(n=5))\n",
    "(Questions.tail(n=5))\n",
    "(Answers.head())\n",
    "(Tags.head(n = 5))\n",
    "(R_Questions.head(n=10))\n",
    "\n",
    "(Answers.shape)\n",
    "(Questions.shape)\n",
    "(Tags.shape)\n",
    "(R_Questions.shape)"
   ]
  },
  {
   "cell_type": "code",
   "execution_count": 3,
   "metadata": {
    "collapsed": false
   },
   "outputs": [],
   "source": [
    "#------Check out the most popular tags:\n",
    "tags = Tags.dropna()\n",
    "(tags[\"Tag\"].value_counts()\n",
    "            .head(15)\n",
    "            .plot(kind = \"barh\"))"
   ]
  },
  {
   "cell_type": "code",
   "execution_count": 5,
   "metadata": {
    "collapsed": false
   },
   "outputs": [],
   "source": [
    "#-----Check out the most popular questions'title  words\n",
    "py_Q_title = Questions['Title'].astype('str') .tolist()\n",
    "wordlist0 = list(map(lambda x: x.split(), py_Q_title ))\n",
    "wordlist1 = [i for j in wordlist0 for i in j]\n",
    "wordlist_1 = str(wordlist1)\n",
    "\n",
    "##WordCloud\n",
    "wordcloud = WordCloud(max_font_size=40).generate(wordlist_1)\n",
    "plt.figure()\n",
    "plt.imshow(wordcloud)\n",
    "plt.axis(\"off\")\n",
    "plt.show()\n",
    "\n",
    "\n",
    "#count0 = Counter(wordlist1).most_common()\n",
    "#count0[1:100]\n"
   ]
  },
  {
   "cell_type": "code",
   "execution_count": 6,
   "metadata": {
    "collapsed": true
   },
   "outputs": [],
   "source": [
    "#-----Check out the most popular questions' body  words\n",
    "py_Q_body = Questions['Body'].astype('str') .tolist()\n",
    "wordlist2 = list(map(lambda x: x.split(), py_Q_body ))\n",
    "wordlist3 = [i for j in wordlist2 for i in j]\n",
    "wordlist_3 = str(wordlist3)\n",
    "\n",
    "##WordCloud\n",
    "wordcloud = WordCloud(max_font_size=40).generate(wordlist_3)\n",
    "plt.figure()\n",
    "plt.imshow(wordcloud)\n",
    "plt.axis(\"off\")\n",
    "plt.show()\n",
    "#count1 = Counter(wordlist3).most_common()\n",
    "#count1[1:100]\n"
   ]
  },
  {
   "cell_type": "code",
   "execution_count": null,
   "metadata": {
    "collapsed": true
   },
   "outputs": [],
   "source": [
    "#-----Check out the most popular Answers'body  words\n",
    "py_A_body = Answers['Body'].astype('str') .tolist()\n",
    "wordlist4 = list(map(lambda x: x.split(), py_A_body ))\n",
    "wordlist5 = [i for j in wordlist4 for i in j]\n",
    "wordlist_5 = str(wordlist5)\n",
    "\n",
    "##WordCloud\n",
    "wordcloud = WordCloud(max_font_size=40).generate(wordlist_5)\n",
    "plt.figure()\n",
    "plt.imshow(wordcloud)\n",
    "plt.axis(\"off\")\n",
    "plt.show()\n",
    "#count2 = Counter(wordlist5).most_common()\n",
    "#count2[1:100]\n"
   ]
  },
  {
   "cell_type": "code",
   "execution_count": 7,
   "metadata": {
    "collapsed": false
   },
   "outputs": [],
   "source": [
    "#-----Check how long a problem will be correctly answered\n",
    "## merge Questions & Answers sheets\n",
    "Q_A = Questions.merge(Answers, left_on = 'Id', right_on = 'ParentId',  how='outer')\n",
    "a = Q_A['CreationDate_y'].dropna()\n",
    "b = Q_A['CreationDate_x'].dropna()\n",
    "time_Q_A = list(map(lambda x,y: (parse(x)-parse(y)).seconds, a, b))\n",
    "avg_time_hours = sum(time_Q_A) / float(len(time_Q_A)) /3600\n"
   ]
  },
  {
   "cell_type": "code",
   "execution_count": 5,
   "metadata": {
    "collapsed": false
   },
   "outputs": [],
   "source": [
    "#-----Check how volumes of questions asked change with time \n",
    "date = Questions['CreationDate']\n",
    "date1 = date.apply(lambda x: x[0:4])\n",
    "Questions.loc[:, 'year_asked'] = date1\n",
    "py_info = Questions.groupby(['year_asked']).count()\n",
    "py_info.rename(columns={'Id': 'Py'}, inplace = True)\n",
    "py_info['Py']\n",
    "\n",
    "r_date = R_Questions['CreationDate']\n",
    "date2 = r_date.apply(lambda x: x[0:4])\n",
    "R_Questions.loc[:, 'year_asked'] = date2\n",
    "r_info = R_Questions.groupby(['year_asked']).count()\n",
    "r_info.rename(columns={'Id': 'R'}, inplace = True)\n",
    "##combine two dataframes\n",
    "frames = [py_info['Py'], r_info['R']]\n",
    "r_py_info = pd.concat(frames, axis = 1)\n",
    "\n",
    "## plot volume changes\n",
    "ax = r_py_info.plot()\n",
    "ax.set( ylabel=\"questions volume\")\n",
    "plt.show()\n"
   ]
  },
  {
   "cell_type": "code",
   "execution_count": null,
   "metadata": {
    "collapsed": true
   },
   "outputs": [],
   "source": []
  }
 ],
 "metadata": {
  "kernelspec": {
   "display_name": "Python 3",
   "language": "python",
   "name": "python3"
  },
  "language_info": {
   "codemirror_mode": {
    "name": "ipython",
    "version": 3
   },
   "file_extension": ".py",
   "mimetype": "text/x-python",
   "name": "python",
   "nbconvert_exporter": "python",
   "pygments_lexer": "ipython3",
   "version": "3.5.1"
  }
 },
 "nbformat": 4,
 "nbformat_minor": 0
}
