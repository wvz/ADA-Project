{
 "cells": [
  {
   "cell_type": "code",
   "execution_count": 1,
   "metadata": {
    "collapsed": false
   },
   "outputs": [],
   "source": [
    "import pandas as pd\n",
    "import numpy as np\n",
    "import matplotlib.pyplot as plt\n",
    "import re\n",
    "import nltk\n",
    "from nltk.corpus import stopwords\n",
    "import random as rd\n",
    "from textblob import TextBlob\n",
    "import requests\n",
    "import time\n",
    "from random import randint\n",
    "\n",
    "data=pd.read_csv(\"Questions.csv\",encoding= 'iso-8859-1')\n"
   ]
  },
  {
   "cell_type": "code",
   "execution_count": 2,
   "metadata": {
    "collapsed": false
   },
   "outputs": [
    {
     "name": "stdout",
     "output_type": "stream",
     "text": [
      "i havv a good boyfriend.->i have a good boyfriend.\n"
     ]
    }
   ],
   "source": [
    "START_SPELL_CHECK=\"<span class=\\\"spell\\\">Showing results for</span>\"\n",
    "END_SPELL_CHECK=\"<br><span class=\\\"spell_orig\\\">Search instead for\"\n",
    "\n",
    "HTML_Codes = ((\"'\", '&#39;'),('\"', '&quot;'),('>', '&gt;'),('<', '&lt;'),('&', '&amp;'),)\n",
    "\n",
    "def spell_check(s):\n",
    "    q = '+'.join(s.split())\n",
    "    time.sleep(  randint(0,2) ) #relax and don't let google be angry\n",
    "    r = requests.get(\"https://www.google.co.uk/search?q=\"+q)\n",
    "    content = r.text\n",
    "    start=content.find(START_SPELL_CHECK) \n",
    "    if ( start > -1 ):\n",
    "        start = start + len(START_SPELL_CHECK)\n",
    "        end=content.find(END_SPELL_CHECK)\n",
    "        search= content[start:end]\n",
    "        search = re.sub(r'<[^>]+>', '', search)\n",
    "        for code in HTML_Codes:\n",
    "            search = search.replace(code[1], code[0])\n",
    "        search = search[1:]\n",
    "    else:\n",
    "        search = s\n",
    "    return search ;\n",
    "\n",
    "searches = [\"i havv a good boyfriend.\"]\n",
    "for search in searches:\n",
    "    speel_check_search= spell_check(search)\n",
    "    print (search+\"->\" + speel_check_search)"
   ]
  },
  {
   "cell_type": "code",
   "execution_count": 3,
   "metadata": {
    "collapsed": false
   },
   "outputs": [
    {
     "data": {
      "text/html": [
       "<div>\n",
       "<table border=\"1\" class=\"dataframe\">\n",
       "  <thead>\n",
       "    <tr style=\"text-align: right;\">\n",
       "      <th></th>\n",
       "      <th>Id</th>\n",
       "      <th>OwnerUserId</th>\n",
       "      <th>CreationDate</th>\n",
       "      <th>Score</th>\n",
       "      <th>Title</th>\n",
       "      <th>Body</th>\n",
       "    </tr>\n",
       "  </thead>\n",
       "  <tbody>\n",
       "    <tr>\n",
       "      <th>607279</th>\n",
       "      <td>40143267</td>\n",
       "      <td>4064680</td>\n",
       "      <td>2016-10-19T23:44:07Z</td>\n",
       "      <td>0</td>\n",
       "      <td>Updating an ManyToMany field with Django rest</td>\n",
       "      <td>&lt;p&gt;I'm trying to set up this API so I can use ...</td>\n",
       "    </tr>\n",
       "    <tr>\n",
       "      <th>607280</th>\n",
       "      <td>40143338</td>\n",
       "      <td>7044980</td>\n",
       "      <td>2016-10-19T23:52:27Z</td>\n",
       "      <td>2</td>\n",
       "      <td>Most possible pairs</td>\n",
       "      <td>&lt;p&gt;Given a list of values, and information on ...</td>\n",
       "    </tr>\n",
       "    <tr>\n",
       "      <th>607281</th>\n",
       "      <td>40143365</td>\n",
       "      <td>4133131</td>\n",
       "      <td>2016-10-19T23:55:49Z</td>\n",
       "      <td>0</td>\n",
       "      <td>Theano operations returning odd results</td>\n",
       "      <td>&lt;p&gt;So I'm trying to learn how to use Theano an...</td>\n",
       "    </tr>\n",
       "  </tbody>\n",
       "</table>\n",
       "</div>"
      ],
      "text/plain": [
       "              Id  OwnerUserId          CreationDate  Score  \\\n",
       "607279  40143267      4064680  2016-10-19T23:44:07Z      0   \n",
       "607280  40143338      7044980  2016-10-19T23:52:27Z      2   \n",
       "607281  40143365      4133131  2016-10-19T23:55:49Z      0   \n",
       "\n",
       "                                                Title  \\\n",
       "607279  Updating an ManyToMany field with Django rest   \n",
       "607280                            Most possible pairs   \n",
       "607281        Theano operations returning odd results   \n",
       "\n",
       "                                                     Body  \n",
       "607279  <p>I'm trying to set up this API so I can use ...  \n",
       "607280  <p>Given a list of values, and information on ...  \n",
       "607281  <p>So I'm trying to learn how to use Theano an...  "
      ]
     },
     "execution_count": 3,
     "metadata": {},
     "output_type": "execute_result"
    }
   ],
   "source": [
    "data.tail(3)\n"
   ]
  },
  {
   "cell_type": "code",
   "execution_count": 4,
   "metadata": {
    "collapsed": false
   },
   "outputs": [
    {
     "data": {
      "text/plain": [
       "(607282, 6)"
      ]
     },
     "execution_count": 4,
     "metadata": {},
     "output_type": "execute_result"
    }
   ],
   "source": [
    "data.shape"
   ]
  },
  {
   "cell_type": "code",
   "execution_count": 5,
   "metadata": {
    "collapsed": false
   },
   "outputs": [
    {
     "data": {
      "text/html": [
       "<div>\n",
       "<table border=\"1\" class=\"dataframe\">\n",
       "  <thead>\n",
       "    <tr style=\"text-align: right;\">\n",
       "      <th></th>\n",
       "      <th>Id</th>\n",
       "      <th>OwnerUserId</th>\n",
       "      <th>Score</th>\n",
       "    </tr>\n",
       "  </thead>\n",
       "  <tbody>\n",
       "    <tr>\n",
       "      <th>count</th>\n",
       "      <td>607282.000000</td>\n",
       "      <td>601070.000000</td>\n",
       "      <td>607282.000000</td>\n",
       "    </tr>\n",
       "    <tr>\n",
       "      <th>mean</th>\n",
       "      <td>23719604.527590</td>\n",
       "      <td>2519594.996418</td>\n",
       "      <td>2.283137</td>\n",
       "    </tr>\n",
       "    <tr>\n",
       "      <th>std</th>\n",
       "      <td>11247153.677061</td>\n",
       "      <td>1910375.393429</td>\n",
       "      <td>19.285578</td>\n",
       "    </tr>\n",
       "    <tr>\n",
       "      <th>min</th>\n",
       "      <td>469.000000</td>\n",
       "      <td>25.000000</td>\n",
       "      <td>-44.000000</td>\n",
       "    </tr>\n",
       "    <tr>\n",
       "      <th>25%</th>\n",
       "      <td>14855187.250000</td>\n",
       "      <td>853934.000000</td>\n",
       "      <td>0.000000</td>\n",
       "    </tr>\n",
       "    <tr>\n",
       "      <th>50%</th>\n",
       "      <td>25318970.000000</td>\n",
       "      <td>2107677.000000</td>\n",
       "      <td>1.000000</td>\n",
       "    </tr>\n",
       "    <tr>\n",
       "      <th>75%</th>\n",
       "      <td>33588233.500000</td>\n",
       "      <td>3991164.000000</td>\n",
       "      <td>2.000000</td>\n",
       "    </tr>\n",
       "    <tr>\n",
       "      <th>max</th>\n",
       "      <td>40143365.000000</td>\n",
       "      <td>7044992.000000</td>\n",
       "      <td>5524.000000</td>\n",
       "    </tr>\n",
       "  </tbody>\n",
       "</table>\n",
       "</div>"
      ],
      "text/plain": [
       "                    Id     OwnerUserId          Score\n",
       "count    607282.000000   601070.000000  607282.000000\n",
       "mean   23719604.527590  2519594.996418       2.283137\n",
       "std    11247153.677061  1910375.393429      19.285578\n",
       "min         469.000000       25.000000     -44.000000\n",
       "25%    14855187.250000   853934.000000       0.000000\n",
       "50%    25318970.000000  2107677.000000       1.000000\n",
       "75%    33588233.500000  3991164.000000       2.000000\n",
       "max    40143365.000000  7044992.000000    5524.000000"
      ]
     },
     "execution_count": 5,
     "metadata": {},
     "output_type": "execute_result"
    }
   ],
   "source": [
    "data.describe()"
   ]
  },
  {
   "cell_type": "code",
   "execution_count": 18,
   "metadata": {
    "collapsed": false
   },
   "outputs": [],
   "source": [
    "from html.parser import HTMLParser\n",
    "import validators\n",
    "    \n",
    "class MLStripper(HTMLParser):\n",
    "    def __init__(self):\n",
    "        self.reset()\n",
    "        self.strict = False\n",
    "        self.convert_charrefs= True\n",
    "        self.fed = []\n",
    "    def handle_data(self, d):\n",
    "        self.fed.append(d)\n",
    "    def get_data(self):\n",
    "        return ''.join(self.fed)\n",
    "    \n",
    "def strip_tags(html):\n",
    "    s = MLStripper()\n",
    "    s.feed(html)\n",
    "    return s.get_data()\n",
    "\n",
    "stop_w = set(stopwords.words(\"english\")) #stop words in English\n",
    "strNum = {'zero':0,'one':1,'two':2,'three':3,'four':4,'five':5,'six':6,'seven':7,'eight':8,'nine':9}\n",
    "def clean(s):\n",
    "    if isinstance(s, unicode):\n",
    "        code_blocks = re.findall(r\"<code>([^<]*)</code>\",s)\n",
    "        comments = re.findall(r\"#([^<]*)\\n\",s)\n",
    "        codes = \" \".join(code_blocks)\n",
    "        real_comments = ' '.join([comments[i] for i in range(len(comments)) if comments[i] in  \" \".join(code_blocks)])# extract comments in codes\n",
    "        s = re.sub(r\"(<code>)[^<]+(</code>)\",r\"\\1 \\2\",s)# remove code blocks.\n",
    "        url = re.findall(r'<a [\\w\\W]+>(.*)</a>',s)\n",
    "        for i in range(len(url)):\n",
    "            if validators.url(url[i]):\n",
    "                   s = s.replace(url[i],\" \")# remove link labels\n",
    "        s = s + real_comments\n",
    "        s = strip_tags(s) #remove html tags\n",
    "        s = re.sub(r\"(\\w)\\.([A-Z])\", r\"\\1 \\2\", s) #Split words with a.A\n",
    "        s = s.lower()\n",
    "        s = s.replace(\"  \",\" \")\n",
    "        s = s.replace(\",\",\" \") \n",
    "        s = s.replace(\"$\",\" \")\n",
    "        s = s.replace(\"?\",\" \")\n",
    "        s = s.replace(\"-\",\" \")\n",
    "        s = s.replace(\"..\",\".\")\n",
    "        s = s.replace(\"\\\\\",\" \")\n",
    "        s = s.replace(\".\",\" . \")\n",
    "        s = s.replace(\":\",\" \")\n",
    "        s = s.replace(\"#\",\" \")\n",
    "        s = s.replace(\"(\",\" \")\n",
    "        s = s.replace(\")\",\" \")\n",
    "        s = s.replace('\"',\" \")\n",
    "        s = s.replace('=',\" \")\n",
    "        s = s.replace('!',\" \")\n",
    "        s = s.replace(\"\\n\",\" \")\n",
    "        s = s.replace(\"\\r\",\" \")\n",
    "        s = s.replace(\"\\\\n\",\" \")\n",
    "        s = s.replace(\"\\\\r\",\" \")\n",
    "        s = s.replace(\"\\t\",\" \")\n",
    "        s = s.replace(\"\\\\t\",\" \")\n",
    "        s = s.replace(\"\\f\",\" \")\n",
    "        s = s.replace(\"\\\\f\",\" \")\n",
    "        s = s.replace(\" os x \",\" osx \")\n",
    "        s = re.sub(r\"([a-z])( *)\\.( *)([a-z])\", r\"\\1 \\4\", s)\n",
    "        s = s.replace(\" os x \",\" osx \") # mac os x -> mac osx\n",
    "        s = re.sub(r\"([0-9])( *)\\.( *)([0-9])\", r\"\\1.\\4\", s)\n",
    "        s = re.sub(r\"([0-9]+)( *)(inches|inch|in|')\\.?\", r\"\\1in. \", s)\n",
    "        s = re.sub(r\"([0-9]+)( *)(foot|feet|ft|'')\\.?\", r\"\\1ft. \", s)\n",
    "        s = re.sub(r\"([0-9]+)( *)(pounds|pound|lbs|lb)\\.?\", r\"\\1lb. \", s)\n",
    "        s = re.sub(r\"([0-9]+)( *)(square|sq) ?\\.?(feet|foot|ft)\\.?\", r\"\\1sq.ft. \", s)\n",
    "        s = re.sub(r\"([0-9]+)( *)(cubic|cu) ?\\.?(feet|foot|ft)\\.?\", r\"\\1cu.ft. \", s)\n",
    "        s = re.sub(r\"([0-9]+)( *)(gallons|gallon|gal)\\.?\", r\"\\1gal. \", s)\n",
    "        s = re.sub(r\"([0-9]+)( *)(ounces|ounce|oz)\\.?\", r\"\\1oz. \", s)\n",
    "        s = re.sub(r\"([0-9]+)( *)(centimeters|cm)\\.?\", r\"\\1cm. \", s)\n",
    "        s = re.sub(r\"([0-9]+)( *)(milimeters|mm)\\.?\", r\"\\1mm. \", s)\n",
    "        s = re.sub(r\"([0-9]+)( *)(degrees|degree)\\.?\", r\"\\1deg. \", s)\n",
    "        s = s.replace(\" v \",\" volts \")\n",
    "        s = re.sub(r\"([0-9]+)( *)(volts|volt)\\.?\", r\"\\1volt. \", s)\n",
    "        s = re.sub(r\"([0-9]+)( *)(watts|watt)\\.?\", r\"\\1watt. \", s)\n",
    "        s = re.sub(r\"([0-9]+)( *)(amperes|ampere|amps|amp)\\.?\", r\"\\1amp. \", s)\n",
    "        s = re.sub(\"\\'\",\" \",s) # 's->\" \" \n",
    "        s = re.sub(r\" +\",\" \",s) # \"  \"-> \" \"\n",
    "        s = s.replace(\" . \",\" \")\n",
    "        s = (\" \").join([z for z in s.split(\" \") if z not in stop_w])\n",
    "        s = (\" \").join([str(strNum[z]) if z in strNum else z for z in s.split(\" \")])\n",
    "        \n",
    "        #s = (\" \").join([stemmer.stem(z) for z in s.split(\" \")])\n",
    "        \n",
    "        s = s.lower()\n",
    "\n",
    "        return s\n",
    "    \n",
    "    elif isinstance(s, str):\n",
    "        code_blocks = re.findall(r\"<code>([^<]*)</code>\",s)\n",
    "        comments = re.findall(r\"#([^<]*)\\n\",s)\n",
    "        codes = \" \".join(code_blocks)\n",
    "        real_comments = ' '.join([comments[i] for i in range(len(comments)) if comments[i] in  \" \".join(code_blocks)])# extract comments in codes\n",
    "        s = re.sub(r\"(<code>)[^<]+(</code>)\",r\"\\1 \\2\",s)# remove code blocks.\n",
    "        url = re.findall(r'<a [\\w\\W]+>(.*)</a>',s)\n",
    "        for i in range(len(url)):\n",
    "            if validators.url(url[i]):\n",
    "                   s = s.replace(url[i],\" \")# remove link labels\n",
    "        s = s + real_comments\n",
    "        s = strip_tags(s)\n",
    "        s = re.sub(r\"(\\w)\\.([A-Z])\", r\"\\1 \\2\", s) #Split words with a.A\n",
    "        s = s.lower()\n",
    "        s = s.replace(\"  \",\" \")\n",
    "        s = s.replace(\",\",\" \")\n",
    "        s = s.replace(\"$\",\" \")\n",
    "        s = s.replace(\"?\",\" \")\n",
    "        s = s.replace(\"-\",\" \")\n",
    "        s = s.replace(\"..\",\".\")\n",
    "        s = s.replace(\"\\\\\",\" \")\n",
    "        s = s.replace(\".\",\" . \")\n",
    "        s = s.replace(\":\",\" \")\n",
    "        s = s.replace(\"#\",\" \")\n",
    "        s = s.replace(\"(\",\" \")\n",
    "        s = s.replace(\")\",\" \")\n",
    "        s = s.replace('\"',\" \")\n",
    "        s = s.replace('=',\" \")\n",
    "        s = s.replace('!',\" \")\n",
    "        s = s.replace(\"\\n\",\" \")\n",
    "        s = s.replace(\"\\r\",\" \")\n",
    "        s = s.replace(\"\\\\n\",\" \")\n",
    "        s = s.replace(\"\\\\r\",\" \")\n",
    "        s = s.replace(\"\\t\",\" \")\n",
    "        s = s.replace(\"\\\\t\",\" \")\n",
    "        s = s.replace(\"\\f\",\" \")\n",
    "        s = s.replace(\"\\\\f\",\" \")\n",
    "        s = s.replace(\" os x \",\" osx \")\n",
    "        s = re.sub(r\"([a-z])( *)\\.( *)([a-z])\", r\"\\1 \\4\", s)\n",
    "        s = re.sub(r\"([0-9])( *)\\.( *)([0-9])\", r\"\\1.\\4\", s)\n",
    "        s = re.sub(r\"([0-9]+)( *)(inches|inch|in|')\\.?\", r\"\\1in. \", s)\n",
    "        s = re.sub(r\"([0-9]+)( *)(foot|feet|ft|'')\\.?\", r\"\\1ft. \", s)\n",
    "        s = re.sub(r\"([0-9]+)( *)(pounds|pound|lbs|lb)\\.?\", r\"\\1lb. \", s)\n",
    "        s = re.sub(r\"([0-9]+)( *)(square|sq) ?\\.?(feet|foot|ft)\\.?\", r\"\\1sq.ft. \", s)\n",
    "        s = re.sub(r\"([0-9]+)( *)(cubic|cu) ?\\.?(feet|foot|ft)\\.?\", r\"\\1cu.ft. \", s)\n",
    "        s = re.sub(r\"([0-9]+)( *)(gallons|gallon|gal)\\.?\", r\"\\1gal. \", s)\n",
    "        s = re.sub(r\"([0-9]+)( *)(ounces|ounce|oz)\\.?\", r\"\\1oz. \", s)\n",
    "        s = re.sub(r\"([0-9]+)( *)(centimeters|cm)\\.?\", r\"\\1cm. \", s)\n",
    "        s = re.sub(r\"([0-9]+)( *)(milimeters|mm)\\.?\", r\"\\1mm. \", s)\n",
    "        s = re.sub(r\"([0-9]+)( *)(degrees|degree)\\.?\", r\"\\1deg. \", s)\n",
    "        s = s.replace(\" v \",\" volts \")\n",
    "        s = re.sub(r\"([0-9]+)( *)(volts|volt)\\.?\", r\"\\1volt. \", s)\n",
    "        s = re.sub(r\"([0-9]+)( *)(watts|watt)\\.?\", r\"\\1watt. \", s)\n",
    "        s = re.sub(r\"([0-9]+)( *)(amperes|ampere|amps|amp)\\.?\", r\"\\1amp. \", s)\n",
    "        s = re.sub(\"\\'\",\" \",s) \n",
    "        s = re.sub(r\" +\",\" \",s) # \"  \"-> \" \"\n",
    "        s = s.replace(\" . \",\" \")\n",
    "        s = (\" \").join([z for z in s.split(\" \") if z not in stop_w])\n",
    "        s = (\" \").join([str(strNum[z]) if z in strNum else z for z in s.split(\" \")])\n",
    "        s = re.sub(r'\\'',' ',s)\n",
    "        #s = (\" \").join([stemmer.stem(z) for z in s.split(\" \")])\n",
    "        \n",
    "        s = s.lower()\n",
    "        return s\n",
    "    \n",
    "    else:\n",
    "        return \"null\""
   ]
  },
  {
   "cell_type": "code",
   "execution_count": 19,
   "metadata": {
    "collapsed": false
   },
   "outputs": [
    {
     "data": {
      "text/plain": [
       "354185"
      ]
     },
     "execution_count": 19,
     "metadata": {},
     "output_type": "execute_result"
    }
   ],
   "source": [
    "i=randint(0,607282)\n",
    "i"
   ]
  },
  {
   "cell_type": "code",
   "execution_count": 20,
   "metadata": {
    "collapsed": false
   },
   "outputs": [
    {
     "data": {
      "text/plain": [
       "u\"<p>I have a case that I need to extract cookies from a redirect response(login page, for example).</p>\\n\\n<p>I have read the doc, even the source code, but still can't find a way to do this.</p>\\n\\n<p>By default, <code>AsyncHTTPClient</code> will follow the redirect and return the redirected response, which didn't contain <code>Set-Cookie</code> thus useless. If given option <code>follow_redirects=False</code>, it will throw an <code>HTTPError</code> just because the response code isn't 200. I also tried the blocking <code>HTTPClient</code> class, it's same.</p>\\n\\n<p>So, what's the right way to do this? I think it's common way that server will send <code>Set-Cookie</code> header along side with a <code>Location</code> header when a user login successfully.</p>\\n\\n<p>Could it be considered as a bug? Or, design deficiency?</p>\\n\""
      ]
     },
     "execution_count": 20,
     "metadata": {},
     "output_type": "execute_result"
    }
   ],
   "source": [
    "data['Body'][i]"
   ]
  },
  {
   "cell_type": "code",
   "execution_count": 21,
   "metadata": {
    "collapsed": false
   },
   "outputs": [
    {
     "data": {
      "text/plain": [
       "u'case need extract cookies redirect response login page example read doc even source code still find way default follow redirect return redirected response contain thus useless given option throw response code 200 also tried blocking class right way think common way server send header along side header user login successfully could considered bug design deficiency '"
      ]
     },
     "execution_count": 21,
     "metadata": {},
     "output_type": "execute_result"
    }
   ],
   "source": [
    "clean(data['Body'][i])"
   ]
  },
  {
   "cell_type": "code",
   "execution_count": null,
   "metadata": {
    "collapsed": false
   },
   "outputs": [],
   "source": [
    "all_cleaned_data=data\n",
    "all_cleaned_data['Title']=all_cleaned_data['Title'].map(lambda x:clean(x)) #how to use clean function\n",
    "all_cleaned_data['Body']=all_cleaned_data['Body'].map(lambda x:clean(x))"
   ]
  },
  {
   "cell_type": "code",
   "execution_count": null,
   "metadata": {
    "collapsed": true
   },
   "outputs": [],
   "source": []
  }
 ],
 "metadata": {
  "kernelspec": {
   "display_name": "Python 2",
   "language": "python",
   "name": "python2"
  },
  "language_info": {
   "codemirror_mode": {
    "name": "ipython",
    "version": 2
   },
   "file_extension": ".py",
   "mimetype": "text/x-python",
   "name": "python",
   "nbconvert_exporter": "python",
   "pygments_lexer": "ipython2",
   "version": "2.7.11"
  }
 },
 "nbformat": 4,
 "nbformat_minor": 0
}
